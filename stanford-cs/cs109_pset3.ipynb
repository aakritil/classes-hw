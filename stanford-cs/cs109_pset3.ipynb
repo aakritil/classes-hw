{
  "nbformat": 4,
  "nbformat_minor": 0,
  "metadata": {
    "colab": {
      "name": "cs109-pset3.ipynb",
      "provenance": []
    },
    "kernelspec": {
      "name": "python3",
      "display_name": "Python 3"
    },
    "language_info": {
      "name": "python"
    }
  },
  "cells": [
    {
      "cell_type": "code",
      "execution_count": null,
      "metadata": {
        "id": "xCSyJXoNde0B"
      },
      "outputs": [],
      "source": [
        "import pandas as pd"
      ]
    },
    {
      "cell_type": "code",
      "source": [
        "# calculating the means of the two sample groups\n",
        "\n",
        "lout = pd.read_csv(\"/content/learningOutcomes.csv\", names = [\"num\", \"activity\", \"score\"])\n",
        "\n"
      ],
      "metadata": {
        "id": "eIam69d_disV"
      },
      "execution_count": null,
      "outputs": []
    },
    {
      "cell_type": "code",
      "source": [
        "lout"
      ],
      "metadata": {
        "colab": {
          "base_uri": "https://localhost:8080/",
          "height": 419
        },
        "id": "woRfSZyBjfGG",
        "outputId": "1052484c-e825-411b-8872-7c66cf18eeec"
      },
      "execution_count": null,
      "outputs": [
        {
          "output_type": "execute_result",
          "data": {
            "text/html": [
              "\n",
              "  <div id=\"df-7ff2ea24-dfd8-4f8e-a273-49f42b9523bb\">\n",
              "    <div class=\"colab-df-container\">\n",
              "      <div>\n",
              "<style scoped>\n",
              "    .dataframe tbody tr th:only-of-type {\n",
              "        vertical-align: middle;\n",
              "    }\n",
              "\n",
              "    .dataframe tbody tr th {\n",
              "        vertical-align: top;\n",
              "    }\n",
              "\n",
              "    .dataframe thead th {\n",
              "        text-align: right;\n",
              "    }\n",
              "</style>\n",
              "<table border=\"1\" class=\"dataframe\">\n",
              "  <thead>\n",
              "    <tr style=\"text-align: right;\">\n",
              "      <th></th>\n",
              "      <th>num</th>\n",
              "      <th>activity</th>\n",
              "      <th>score</th>\n",
              "    </tr>\n",
              "  </thead>\n",
              "  <tbody>\n",
              "    <tr>\n",
              "      <th>0</th>\n",
              "      <td>5410951</td>\n",
              "      <td>activity2</td>\n",
              "      <td>53</td>\n",
              "    </tr>\n",
              "    <tr>\n",
              "      <th>1</th>\n",
              "      <td>5410952</td>\n",
              "      <td>activity2</td>\n",
              "      <td>79</td>\n",
              "    </tr>\n",
              "    <tr>\n",
              "      <th>2</th>\n",
              "      <td>5410953</td>\n",
              "      <td>activity1</td>\n",
              "      <td>207</td>\n",
              "    </tr>\n",
              "    <tr>\n",
              "      <th>3</th>\n",
              "      <td>5410954</td>\n",
              "      <td>activity1</td>\n",
              "      <td>179</td>\n",
              "    </tr>\n",
              "    <tr>\n",
              "      <th>4</th>\n",
              "      <td>5410955</td>\n",
              "      <td>activity2</td>\n",
              "      <td>68</td>\n",
              "    </tr>\n",
              "    <tr>\n",
              "      <th>...</th>\n",
              "      <td>...</td>\n",
              "      <td>...</td>\n",
              "      <td>...</td>\n",
              "    </tr>\n",
              "    <tr>\n",
              "      <th>1047</th>\n",
              "      <td>5411998</td>\n",
              "      <td>activity1</td>\n",
              "      <td>148</td>\n",
              "    </tr>\n",
              "    <tr>\n",
              "      <th>1048</th>\n",
              "      <td>5411999</td>\n",
              "      <td>activity1</td>\n",
              "      <td>95</td>\n",
              "    </tr>\n",
              "    <tr>\n",
              "      <th>1049</th>\n",
              "      <td>5412000</td>\n",
              "      <td>activity2</td>\n",
              "      <td>144</td>\n",
              "    </tr>\n",
              "    <tr>\n",
              "      <th>1050</th>\n",
              "      <td>5412001</td>\n",
              "      <td>activity1</td>\n",
              "      <td>161</td>\n",
              "    </tr>\n",
              "    <tr>\n",
              "      <th>1051</th>\n",
              "      <td>5412002</td>\n",
              "      <td>activity2</td>\n",
              "      <td>48</td>\n",
              "    </tr>\n",
              "  </tbody>\n",
              "</table>\n",
              "<p>1052 rows × 3 columns</p>\n",
              "</div>\n",
              "      <button class=\"colab-df-convert\" onclick=\"convertToInteractive('df-7ff2ea24-dfd8-4f8e-a273-49f42b9523bb')\"\n",
              "              title=\"Convert this dataframe to an interactive table.\"\n",
              "              style=\"display:none;\">\n",
              "        \n",
              "  <svg xmlns=\"http://www.w3.org/2000/svg\" height=\"24px\"viewBox=\"0 0 24 24\"\n",
              "       width=\"24px\">\n",
              "    <path d=\"M0 0h24v24H0V0z\" fill=\"none\"/>\n",
              "    <path d=\"M18.56 5.44l.94 2.06.94-2.06 2.06-.94-2.06-.94-.94-2.06-.94 2.06-2.06.94zm-11 1L8.5 8.5l.94-2.06 2.06-.94-2.06-.94L8.5 2.5l-.94 2.06-2.06.94zm10 10l.94 2.06.94-2.06 2.06-.94-2.06-.94-.94-2.06-.94 2.06-2.06.94z\"/><path d=\"M17.41 7.96l-1.37-1.37c-.4-.4-.92-.59-1.43-.59-.52 0-1.04.2-1.43.59L10.3 9.45l-7.72 7.72c-.78.78-.78 2.05 0 2.83L4 21.41c.39.39.9.59 1.41.59.51 0 1.02-.2 1.41-.59l7.78-7.78 2.81-2.81c.8-.78.8-2.07 0-2.86zM5.41 20L4 18.59l7.72-7.72 1.47 1.35L5.41 20z\"/>\n",
              "  </svg>\n",
              "      </button>\n",
              "      \n",
              "  <style>\n",
              "    .colab-df-container {\n",
              "      display:flex;\n",
              "      flex-wrap:wrap;\n",
              "      gap: 12px;\n",
              "    }\n",
              "\n",
              "    .colab-df-convert {\n",
              "      background-color: #E8F0FE;\n",
              "      border: none;\n",
              "      border-radius: 50%;\n",
              "      cursor: pointer;\n",
              "      display: none;\n",
              "      fill: #1967D2;\n",
              "      height: 32px;\n",
              "      padding: 0 0 0 0;\n",
              "      width: 32px;\n",
              "    }\n",
              "\n",
              "    .colab-df-convert:hover {\n",
              "      background-color: #E2EBFA;\n",
              "      box-shadow: 0px 1px 2px rgba(60, 64, 67, 0.3), 0px 1px 3px 1px rgba(60, 64, 67, 0.15);\n",
              "      fill: #174EA6;\n",
              "    }\n",
              "\n",
              "    [theme=dark] .colab-df-convert {\n",
              "      background-color: #3B4455;\n",
              "      fill: #D2E3FC;\n",
              "    }\n",
              "\n",
              "    [theme=dark] .colab-df-convert:hover {\n",
              "      background-color: #434B5C;\n",
              "      box-shadow: 0px 1px 3px 1px rgba(0, 0, 0, 0.15);\n",
              "      filter: drop-shadow(0px 1px 2px rgba(0, 0, 0, 0.3));\n",
              "      fill: #FFFFFF;\n",
              "    }\n",
              "  </style>\n",
              "\n",
              "      <script>\n",
              "        const buttonEl =\n",
              "          document.querySelector('#df-7ff2ea24-dfd8-4f8e-a273-49f42b9523bb button.colab-df-convert');\n",
              "        buttonEl.style.display =\n",
              "          google.colab.kernel.accessAllowed ? 'block' : 'none';\n",
              "\n",
              "        async function convertToInteractive(key) {\n",
              "          const element = document.querySelector('#df-7ff2ea24-dfd8-4f8e-a273-49f42b9523bb');\n",
              "          const dataTable =\n",
              "            await google.colab.kernel.invokeFunction('convertToInteractive',\n",
              "                                                     [key], {});\n",
              "          if (!dataTable) return;\n",
              "\n",
              "          const docLinkHtml = 'Like what you see? Visit the ' +\n",
              "            '<a target=\"_blank\" href=https://colab.research.google.com/notebooks/data_table.ipynb>data table notebook</a>'\n",
              "            + ' to learn more about interactive tables.';\n",
              "          element.innerHTML = '';\n",
              "          dataTable['output_type'] = 'display_data';\n",
              "          await google.colab.output.renderOutput(dataTable, element);\n",
              "          const docLink = document.createElement('div');\n",
              "          docLink.innerHTML = docLinkHtml;\n",
              "          element.appendChild(docLink);\n",
              "        }\n",
              "      </script>\n",
              "    </div>\n",
              "  </div>\n",
              "  "
            ],
            "text/plain": [
              "          num   activity  score\n",
              "0     5410951  activity2     53\n",
              "1     5410952  activity2     79\n",
              "2     5410953  activity1    207\n",
              "3     5410954  activity1    179\n",
              "4     5410955  activity2     68\n",
              "...       ...        ...    ...\n",
              "1047  5411998  activity1    148\n",
              "1048  5411999  activity1     95\n",
              "1049  5412000  activity2    144\n",
              "1050  5412001  activity1    161\n",
              "1051  5412002  activity2     48\n",
              "\n",
              "[1052 rows x 3 columns]"
            ]
          },
          "metadata": {},
          "execution_count": 3
        }
      ]
    },
    {
      "cell_type": "code",
      "source": [
        "sampex = lout[\"score\"].mean()\n",
        "sampvar = lout[\"score\"].var()\n",
        "'''\n",
        "for i in range(1,len(lout)+1) :\n",
        "  sampvar += (lout[\"score\"][i-1] - sampex)**2\n",
        "sampvar  = sampvar/len(lout[\"score\"])\n",
        "'''"
      ],
      "metadata": {
        "id": "G4iIeJv1i3l1"
      },
      "execution_count": null,
      "outputs": []
    },
    {
      "cell_type": "code",
      "source": [
        ""
      ],
      "metadata": {
        "colab": {
          "base_uri": "https://localhost:8080/"
        },
        "id": "jc7OWipRlsh_",
        "outputId": "9d609459-052d-41e9-fe3e-e30d0aad17dd"
      },
      "execution_count": null,
      "outputs": [
        {
          "output_type": "execute_result",
          "data": {
            "text/plain": [
              "4373.849147558877"
            ]
          },
          "metadata": {},
          "execution_count": 9
        }
      ]
    },
    {
      "cell_type": "code",
      "source": [
        "act1 = lout[lout[\"activity\"] == \"activity1\"]\n",
        "act2 = lout[lout[\"activity\"] == \"activity2\"]\n",
        "diff = act2[\"score\"].mean()-act1[\"score\"].mean()"
      ],
      "metadata": {
        "id": "XO8gbxssdvbP"
      },
      "execution_count": null,
      "outputs": []
    },
    {
      "cell_type": "code",
      "source": [
        "diff"
      ],
      "metadata": {
        "colab": {
          "base_uri": "https://localhost:8080/"
        },
        "id": "MERVzvQVOVf0",
        "outputId": "5961cc51-9354-4924-a728-8e46c390dc5a"
      },
      "execution_count": null,
      "outputs": [
        {
          "output_type": "execute_result",
          "data": {
            "text/plain": [
              "8.201367484263073"
            ]
          },
          "metadata": {},
          "execution_count": 17
        }
      ]
    },
    {
      "cell_type": "code",
      "source": [
        "import scipy.stats\n",
        "import numpy as np\n",
        "\n",
        "null = 0\n",
        "\n",
        "for i in range(0,10000):\n",
        "  sampleAct1 = np.random.choice(lout[\"score\"], size = len(act1), replace = True)\n",
        "  sampleAct2 = np.random.choice(lout[\"score\"], size = len(act2), replace = True)\n",
        "\n",
        "  if abs(sum(sampleAct1)/len(sampleAct1) - sum(sampleAct2)/len(sampleAct2)) >  diff:\n",
        "    #print(abs(sum(sampleAct1)/len(sampleAct1) - sum(sampleAct2)/len(sampleAct2))) \n",
        "    null  += 1\n",
        "\n",
        "\n",
        "\n",
        "print(null/10000)\n",
        "\n"
      ],
      "metadata": {
        "id": "5H3KLM2_dv2e",
        "colab": {
          "base_uri": "https://localhost:8080/"
        },
        "outputId": "c3816322-64af-4595-8fd5-658b6d600c10"
      },
      "execution_count": null,
      "outputs": [
        {
          "output_type": "stream",
          "name": "stdout",
          "text": [
            "0.0448\n"
          ]
        }
      ]
    },
    {
      "cell_type": "code",
      "source": [
        "binfo = pd.read_csv(\"/content/background.csv\", names = [\"num\", \"background\"])\n",
        "lout[\"background\"] = binfo[\"background\"]"
      ],
      "metadata": {
        "id": "jmBzgX92kdMt"
      },
      "execution_count": null,
      "outputs": []
    },
    {
      "cell_type": "code",
      "source": [
        "less = lout[lout[\"background\"] == \"less\"]\n",
        "more = lout[lout[\"background\"] == \"more\"]\n",
        "avg = lout[lout[\"background\"] == \"average\"]"
      ],
      "metadata": {
        "id": "1FV_-3SYS6Fu"
      },
      "execution_count": null,
      "outputs": []
    },
    {
      "cell_type": "code",
      "source": [
        "def findpval(groupDF):\n",
        "  act1 = groupDF[groupDF[\"activity\"] == \"activity1\"]\n",
        "  act2 = groupDF[groupDF[\"activity\"] == \"activity2\"]\n",
        "  diff = act2[\"score\"].mean()-act1[\"score\"].mean()\n",
        "\n",
        "  print(f'Diff in Means for Activity 1 and Activity 2 is {abs(diff)}.')\n",
        "\n",
        "  null = 0\n",
        "\n",
        "  for i in range(0,100000):\n",
        "    sampleAct1 = np.random.choice(groupDF[\"score\"], size = len(act1), replace = True)\n",
        "    sampleAct2 = np.random.choice(groupDF[\"score\"], size = len(act2), replace = True)\n",
        "\n",
        "    if abs(sum(sampleAct1)/len(sampleAct1) - sum(sampleAct2)/len(sampleAct2)) >  abs(diff):\n",
        "      null  += 1\n",
        "\n",
        "  print(f'P value with 100000 iterations is {null/100000}.')"
      ],
      "metadata": {
        "id": "-DnaPkrmTS80"
      },
      "execution_count": null,
      "outputs": []
    },
    {
      "cell_type": "code",
      "source": [
        "findpval(less)"
      ],
      "metadata": {
        "colab": {
          "base_uri": "https://localhost:8080/"
        },
        "id": "_DGGQNlXT2Eq",
        "outputId": "87aab911-603e-4129-9ded-2ef91c2d4657"
      },
      "execution_count": null,
      "outputs": [
        {
          "output_type": "stream",
          "name": "stdout",
          "text": [
            "Diff in Means for Activity 1 and Activity 2 is 26.015873015873012.\n",
            "P value with 100000 iterations is 0.0005.\n"
          ]
        }
      ]
    },
    {
      "cell_type": "code",
      "source": [
        "findpval(more)"
      ],
      "metadata": {
        "colab": {
          "base_uri": "https://localhost:8080/"
        },
        "id": "wSHXNzXaT3Mr",
        "outputId": "ca2e1908-38c5-46bc-b372-8b2f8dce0bac"
      },
      "execution_count": null,
      "outputs": [
        {
          "output_type": "stream",
          "name": "stdout",
          "text": [
            "Diff in Means for Activity 1 and Activity 2 is 28.416450216450215.\n",
            "P value with 100000 iterations is 0.0.\n"
          ]
        }
      ]
    },
    {
      "cell_type": "code",
      "source": [
        "findpval(avg)"
      ],
      "metadata": {
        "colab": {
          "base_uri": "https://localhost:8080/"
        },
        "id": "EhbV7t3GT6d5",
        "outputId": "c5df8500-b79f-408b-f092-85ce42bf0f62"
      },
      "execution_count": null,
      "outputs": [
        {
          "output_type": "stream",
          "name": "stdout",
          "text": [
            "Diff in Means for Activity 1 and Activity 2 is 24.984501450603148.\n",
            "P value with 100000 iterations is 0.00581.\n"
          ]
        }
      ]
    },
    {
      "cell_type": "code",
      "source": [
        "grades = pd.read_csv(\"/content/peerGrades.csv\", names = [\"grade\"])\n",
        "\n"
      ],
      "metadata": {
        "id": "MpLZg8t3T739"
      },
      "execution_count": null,
      "outputs": []
    },
    {
      "cell_type": "code",
      "source": [
        "medians = []\n",
        "for i in range(0,1000000):\n",
        "  sample =  np.random.choice(grades[\"grade\"], size = 5, replace = True)\n",
        "  medians.append(np.median(sample))"
      ],
      "metadata": {
        "id": "JqOtMUqdWvkC"
      },
      "execution_count": null,
      "outputs": []
    },
    {
      "cell_type": "code",
      "source": [
        "print(np.var(medians))"
      ],
      "metadata": {
        "colab": {
          "base_uri": "https://localhost:8080/"
        },
        "id": "HDFiA1tsWvzd",
        "outputId": "a4174d69-13c5-4e46-a2be-17048727f351"
      },
      "execution_count": null,
      "outputs": [
        {
          "output_type": "stream",
          "name": "stdout",
          "text": [
            "60.18815799\n"
          ]
        }
      ]
    },
    {
      "cell_type": "code",
      "source": [
        "means = []\n",
        "for i in range(0,100000):\n",
        "  sample =  np.random.choice(grades[\"grade\"], size = 5, replace = True)\n",
        "  means.append(np.mean(sample))"
      ],
      "metadata": {
        "id": "UNZaLxUIWzue"
      },
      "execution_count": null,
      "outputs": []
    },
    {
      "cell_type": "code",
      "source": [
        "print(np.var(means))"
      ],
      "metadata": {
        "colab": {
          "base_uri": "https://localhost:8080/"
        },
        "id": "TWwURmN6XIfD",
        "outputId": "3e053da9-52e3-48d3-ac17-f434093c99a2"
      },
      "execution_count": null,
      "outputs": [
        {
          "output_type": "stream",
          "name": "stdout",
          "text": [
            "101.57394586993601\n"
          ]
        }
      ]
    },
    {
      "cell_type": "code",
      "source": [
        ""
      ],
      "metadata": {
        "id": "5QloxCKLXtju"
      },
      "execution_count": null,
      "outputs": []
    }
  ]
}