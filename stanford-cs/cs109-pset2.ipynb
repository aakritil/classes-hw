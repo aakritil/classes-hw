{
  "nbformat": 4,
  "nbformat_minor": 0,
  "metadata": {
    "colab": {
      "name": "CS109HW.ipynb",
      "provenance": []
    },
    "kernelspec": {
      "name": "python3",
      "display_name": "Python 3"
    },
    "language_info": {
      "name": "python"
    }
  },
  "cells": [
    {
      "cell_type": "code",
      "execution_count": null,
      "metadata": {
        "id": "mCJlfgadMemG"
      },
      "outputs": [],
      "source": [
        "import pandas as pd\n",
        "\n",
        "gfile = pd.read_csv(\"/content/bats.csv\")"
      ]
    },
    {
      "cell_type": "code",
      "source": [
        "gfile"
      ],
      "metadata": {
        "colab": {
          "base_uri": "https://localhost:8080/",
          "height": 419
        },
        "id": "wrOZ-72RM8Rj",
        "outputId": "d6823892-2f75-47e8-90b9-9512ee536646"
      },
      "execution_count": null,
      "outputs": [
        {
          "output_type": "execute_result",
          "data": {
            "text/html": [
              "\n",
              "  <div id=\"df-e41622c0-68dc-4a5a-bc5e-d7900eb9c84b\">\n",
              "    <div class=\"colab-df-container\">\n",
              "      <div>\n",
              "<style scoped>\n",
              "    .dataframe tbody tr th:only-of-type {\n",
              "        vertical-align: middle;\n",
              "    }\n",
              "\n",
              "    .dataframe tbody tr th {\n",
              "        vertical-align: top;\n",
              "    }\n",
              "\n",
              "    .dataframe thead th {\n",
              "        text-align: right;\n",
              "    }\n",
              "</style>\n",
              "<table border=\"1\" class=\"dataframe\">\n",
              "  <thead>\n",
              "    <tr style=\"text-align: right;\">\n",
              "      <th></th>\n",
              "      <th>G1</th>\n",
              "      <th>G2</th>\n",
              "      <th>G3</th>\n",
              "      <th>G4</th>\n",
              "      <th>G5</th>\n",
              "      <th>T</th>\n",
              "    </tr>\n",
              "  </thead>\n",
              "  <tbody>\n",
              "    <tr>\n",
              "      <th>0</th>\n",
              "      <td>True</td>\n",
              "      <td>False</td>\n",
              "      <td>True</td>\n",
              "      <td>True</td>\n",
              "      <td>False</td>\n",
              "      <td>False</td>\n",
              "    </tr>\n",
              "    <tr>\n",
              "      <th>1</th>\n",
              "      <td>False</td>\n",
              "      <td>False</td>\n",
              "      <td>True</td>\n",
              "      <td>True</td>\n",
              "      <td>True</td>\n",
              "      <td>True</td>\n",
              "    </tr>\n",
              "    <tr>\n",
              "      <th>2</th>\n",
              "      <td>True</td>\n",
              "      <td>False</td>\n",
              "      <td>True</td>\n",
              "      <td>False</td>\n",
              "      <td>False</td>\n",
              "      <td>False</td>\n",
              "    </tr>\n",
              "    <tr>\n",
              "      <th>3</th>\n",
              "      <td>True</td>\n",
              "      <td>False</td>\n",
              "      <td>True</td>\n",
              "      <td>True</td>\n",
              "      <td>True</td>\n",
              "      <td>False</td>\n",
              "    </tr>\n",
              "    <tr>\n",
              "      <th>4</th>\n",
              "      <td>False</td>\n",
              "      <td>True</td>\n",
              "      <td>True</td>\n",
              "      <td>True</td>\n",
              "      <td>True</td>\n",
              "      <td>True</td>\n",
              "    </tr>\n",
              "    <tr>\n",
              "      <th>...</th>\n",
              "      <td>...</td>\n",
              "      <td>...</td>\n",
              "      <td>...</td>\n",
              "      <td>...</td>\n",
              "      <td>...</td>\n",
              "      <td>...</td>\n",
              "    </tr>\n",
              "    <tr>\n",
              "      <th>99995</th>\n",
              "      <td>True</td>\n",
              "      <td>False</td>\n",
              "      <td>True</td>\n",
              "      <td>True</td>\n",
              "      <td>True</td>\n",
              "      <td>True</td>\n",
              "    </tr>\n",
              "    <tr>\n",
              "      <th>99996</th>\n",
              "      <td>True</td>\n",
              "      <td>True</td>\n",
              "      <td>False</td>\n",
              "      <td>False</td>\n",
              "      <td>False</td>\n",
              "      <td>False</td>\n",
              "    </tr>\n",
              "    <tr>\n",
              "      <th>99997</th>\n",
              "      <td>True</td>\n",
              "      <td>True</td>\n",
              "      <td>False</td>\n",
              "      <td>True</td>\n",
              "      <td>False</td>\n",
              "      <td>False</td>\n",
              "    </tr>\n",
              "    <tr>\n",
              "      <th>99998</th>\n",
              "      <td>False</td>\n",
              "      <td>False</td>\n",
              "      <td>True</td>\n",
              "      <td>True</td>\n",
              "      <td>True</td>\n",
              "      <td>False</td>\n",
              "    </tr>\n",
              "    <tr>\n",
              "      <th>99999</th>\n",
              "      <td>True</td>\n",
              "      <td>False</td>\n",
              "      <td>True</td>\n",
              "      <td>True</td>\n",
              "      <td>True</td>\n",
              "      <td>True</td>\n",
              "    </tr>\n",
              "  </tbody>\n",
              "</table>\n",
              "<p>100000 rows × 6 columns</p>\n",
              "</div>\n",
              "      <button class=\"colab-df-convert\" onclick=\"convertToInteractive('df-e41622c0-68dc-4a5a-bc5e-d7900eb9c84b')\"\n",
              "              title=\"Convert this dataframe to an interactive table.\"\n",
              "              style=\"display:none;\">\n",
              "        \n",
              "  <svg xmlns=\"http://www.w3.org/2000/svg\" height=\"24px\"viewBox=\"0 0 24 24\"\n",
              "       width=\"24px\">\n",
              "    <path d=\"M0 0h24v24H0V0z\" fill=\"none\"/>\n",
              "    <path d=\"M18.56 5.44l.94 2.06.94-2.06 2.06-.94-2.06-.94-.94-2.06-.94 2.06-2.06.94zm-11 1L8.5 8.5l.94-2.06 2.06-.94-2.06-.94L8.5 2.5l-.94 2.06-2.06.94zm10 10l.94 2.06.94-2.06 2.06-.94-2.06-.94-.94-2.06-.94 2.06-2.06.94z\"/><path d=\"M17.41 7.96l-1.37-1.37c-.4-.4-.92-.59-1.43-.59-.52 0-1.04.2-1.43.59L10.3 9.45l-7.72 7.72c-.78.78-.78 2.05 0 2.83L4 21.41c.39.39.9.59 1.41.59.51 0 1.02-.2 1.41-.59l7.78-7.78 2.81-2.81c.8-.78.8-2.07 0-2.86zM5.41 20L4 18.59l7.72-7.72 1.47 1.35L5.41 20z\"/>\n",
              "  </svg>\n",
              "      </button>\n",
              "      \n",
              "  <style>\n",
              "    .colab-df-container {\n",
              "      display:flex;\n",
              "      flex-wrap:wrap;\n",
              "      gap: 12px;\n",
              "    }\n",
              "\n",
              "    .colab-df-convert {\n",
              "      background-color: #E8F0FE;\n",
              "      border: none;\n",
              "      border-radius: 50%;\n",
              "      cursor: pointer;\n",
              "      display: none;\n",
              "      fill: #1967D2;\n",
              "      height: 32px;\n",
              "      padding: 0 0 0 0;\n",
              "      width: 32px;\n",
              "    }\n",
              "\n",
              "    .colab-df-convert:hover {\n",
              "      background-color: #E2EBFA;\n",
              "      box-shadow: 0px 1px 2px rgba(60, 64, 67, 0.3), 0px 1px 3px 1px rgba(60, 64, 67, 0.15);\n",
              "      fill: #174EA6;\n",
              "    }\n",
              "\n",
              "    [theme=dark] .colab-df-convert {\n",
              "      background-color: #3B4455;\n",
              "      fill: #D2E3FC;\n",
              "    }\n",
              "\n",
              "    [theme=dark] .colab-df-convert:hover {\n",
              "      background-color: #434B5C;\n",
              "      box-shadow: 0px 1px 3px 1px rgba(0, 0, 0, 0.15);\n",
              "      filter: drop-shadow(0px 1px 2px rgba(0, 0, 0, 0.3));\n",
              "      fill: #FFFFFF;\n",
              "    }\n",
              "  </style>\n",
              "\n",
              "      <script>\n",
              "        const buttonEl =\n",
              "          document.querySelector('#df-e41622c0-68dc-4a5a-bc5e-d7900eb9c84b button.colab-df-convert');\n",
              "        buttonEl.style.display =\n",
              "          google.colab.kernel.accessAllowed ? 'block' : 'none';\n",
              "\n",
              "        async function convertToInteractive(key) {\n",
              "          const element = document.querySelector('#df-e41622c0-68dc-4a5a-bc5e-d7900eb9c84b');\n",
              "          const dataTable =\n",
              "            await google.colab.kernel.invokeFunction('convertToInteractive',\n",
              "                                                     [key], {});\n",
              "          if (!dataTable) return;\n",
              "\n",
              "          const docLinkHtml = 'Like what you see? Visit the ' +\n",
              "            '<a target=\"_blank\" href=https://colab.research.google.com/notebooks/data_table.ipynb>data table notebook</a>'\n",
              "            + ' to learn more about interactive tables.';\n",
              "          element.innerHTML = '';\n",
              "          dataTable['output_type'] = 'display_data';\n",
              "          await google.colab.output.renderOutput(dataTable, element);\n",
              "          const docLink = document.createElement('div');\n",
              "          docLink.innerHTML = docLinkHtml;\n",
              "          element.appendChild(docLink);\n",
              "        }\n",
              "      </script>\n",
              "    </div>\n",
              "  </div>\n",
              "  "
            ],
            "text/plain": [
              "          G1     G2     G3     G4     G5      T\n",
              "0       True  False   True   True  False  False\n",
              "1      False  False   True   True   True   True\n",
              "2       True  False   True  False  False  False\n",
              "3       True  False   True   True   True  False\n",
              "4      False   True   True   True   True   True\n",
              "...      ...    ...    ...    ...    ...    ...\n",
              "99995   True  False   True   True   True   True\n",
              "99996   True   True  False  False  False  False\n",
              "99997   True   True  False   True  False  False\n",
              "99998  False  False   True   True   True  False\n",
              "99999   True  False   True   True   True   True\n",
              "\n",
              "[100000 rows x 6 columns]"
            ]
          },
          "metadata": {},
          "execution_count": 2
        }
      ]
    },
    {
      "cell_type": "code",
      "source": [
        "def calculatesingprob(col1, db, value):\n",
        "  newdb = db[col1].value_counts()\n",
        "  return newdb[value] / len(db)\n"
      ],
      "metadata": {
        "id": "M2aP9pSY54S2"
      },
      "execution_count": null,
      "outputs": []
    },
    {
      "cell_type": "code",
      "source": [
        "def calculateandprob(col1,col2, db):\n",
        "  sum=0\n",
        "  for i in range(0,len(db)):\n",
        "    if db.at[i,col1] and db.at[i,col2] :\n",
        "      sum += 1\n",
        "\n",
        "  return sum/len(db)"
      ],
      "metadata": {
        "id": "eMoT63emPMrs"
      },
      "execution_count": null,
      "outputs": []
    },
    {
      "cell_type": "code",
      "source": [
        "print(calculateandprob(\"G1\",\"T\",gfile))\n",
        "print(calculateandprob(\"G2\",\"T\",gfile))\n",
        "print(calculateandprob(\"G3\",\"T\",gfile))\n",
        "print(calculateandprob(\"G4\",\"T\",gfile))\n",
        "print(calculateandprob(\"G5\",\"T\",gfile))"
      ],
      "metadata": {
        "colab": {
          "base_uri": "https://localhost:8080/"
        },
        "id": "UcVYm-gDPnrR",
        "outputId": "94e2de06-956e-4c28-f3f8-6e3fe0c05d7d"
      },
      "execution_count": null,
      "outputs": [
        {
          "output_type": "stream",
          "name": "stdout",
          "text": [
            "0.2121\n",
            "0.09089\n",
            "0.29212\n",
            "0.29703\n",
            "0.29434\n"
          ]
        }
      ]
    },
    {
      "cell_type": "code",
      "source": [
        "def calculatecondprob(col1,col2, db):\n",
        "  sum=0\n",
        "  for i in range(0,len(db)):\n",
        "    if db.at[i,col1] and db.at[i,col2] :\n",
        "      sum += 1\n",
        "\n",
        "  return sum/len(db)"
      ],
      "metadata": {
        "id": "vjiqKzxMPtpF"
      },
      "execution_count": null,
      "outputs": []
    },
    {
      "cell_type": "code",
      "source": [
        "print(calculatesingprob(\"G1\", gfile, True)) #the same\n",
        "print(calculatesingprob(\"G2\", gfile, True)  ) #the same\n",
        "print(calculatesingprob(\"G3\", gfile, True) )\n",
        "print(calculatesingprob(\"G4\", gfile, True) )\n",
        "print(calculatesingprob(\"G5\", gfile, True) )\n",
        "print(calculatesingprob(\"T\", gfile, True) )"
      ],
      "metadata": {
        "colab": {
          "base_uri": "https://localhost:8080/"
        },
        "id": "kBWX_39h2ZPx",
        "outputId": "12bc24ce-e498-4990-befd-2175883c11ca"
      },
      "execution_count": null,
      "outputs": [
        {
          "output_type": "stream",
          "name": "stdout",
          "text": [
            "0.70228\n",
            "0.30076\n",
            "0.5009\n",
            "0.80162\n",
            "0.32705\n",
            "0.30079\n"
          ]
        }
      ]
    },
    {
      "cell_type": "code",
      "source": [
        "print(calculatesingprob(\"G1\", gfile, True) * calculatesingprob(\"T\", gfile, True)) #the same\n",
        "print(calculatesingprob(\"G2\", gfile, True) * calculatesingprob(\"T\", gfile, True) ) #the same\n",
        "print(calculatesingprob(\"G3\", gfile, True) * calculatesingprob(\"T\", gfile, True))\n",
        "print(calculatesingprob(\"G4\", gfile, True) * calculatesingprob(\"T\", gfile, True))\n",
        "print(calculatesingprob(\"G5\", gfile, True) * calculatesingprob(\"T\", gfile, True))\n",
        "print(calculatesingprob(\"T\", gfile, True) * calculatesingprob(\"T\", gfile, True))"
      ],
      "metadata": {
        "colab": {
          "base_uri": "https://localhost:8080/"
        },
        "id": "NFZoYzYF6gQU",
        "outputId": "65f32a07-0c0d-4f32-c1aa-9660161b3575"
      },
      "execution_count": null,
      "outputs": [
        {
          "output_type": "stream",
          "name": "stdout",
          "text": [
            "0.2112388012\n",
            "0.09046560040000001\n",
            "0.150665711\n",
            "0.2411192798\n",
            "0.0983733695\n",
            "0.0904746241\n"
          ]
        }
      ]
    },
    {
      "cell_type": "code",
      "source": [
        "firstflips = \"TTHTHHTHTTTHHTTHHTTHHHTHHTHTTHTHTTHHTHHHTTHTHTTTHHTTHTHTHTHTHTTHTHTHHHTTHTHTHHTHHHTHTHTTHTTHHTHTHTHTTHHTTHTHTTHHHTHTHTHTTHTTHHTTHTHHTHHHTTHHTHTTHTHTHTHTHTHTHHHTHTHTHTHHTHHTHTHTTHTTTHHTHTTTHTHHTHHHHTTTHHTHTHTHTHHHTTHHTHTTTHTHHTHTHTHHTHTTHTTHTHHTHTHTTT\"\n",
        "secondflips = \"THTTTTHHHHTHTHTTHTTTHTTHTTTTHTHHTHHHHTTTTTHHHHTHHHTTTTHTHTTHHHHTHHHHHHHHTTHHTHHTHHHHHHHTTHTHTTTHHTTTTHTHHTTHTTHTHTHTTHHHHHTTHTTTHTHTHHTTTTHTTTTTHHTHTHHHHTTTTHTHHHTHHTHTHTHTHHHTHTTHHHTHHHHHHTHHHTHTTTHHHTTTHHTHTTHHTHHHTHTTHTTHTTTHHTHTHTTTTHTHTHTTHTHTHT\"\n",
        "listofrunlens1 = []\n",
        "listofrunlens2 = []\n",
        "hcount1 = 0\n",
        "hcout2 = 0\n",
        "prevchar = \"T\"\n",
        "runlen1 = 0\n",
        "\n",
        "\n",
        "for char in firstflips:\n",
        "  if char == \"H\":\n",
        "    hcount +=1\n",
        "  if char == prevchar:\n",
        "    runlen1 +=1\n",
        "  else:\n",
        "    listofrunlens1.append(runlen1)\n",
        "    runlen1 = 0\n"
      ],
      "metadata": {
        "id": "bT__LjoJ6nHX"
      },
      "execution_count": null,
      "outputs": []
    }
  ]
}