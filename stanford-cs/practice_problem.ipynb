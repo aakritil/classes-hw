{
  "nbformat": 4,
  "nbformat_minor": 0,
  "metadata": {
    "colab": {
      "name": "practice-problem.ipynb",
      "provenance": []
    },
    "kernelspec": {
      "name": "python3",
      "display_name": "Python 3"
    },
    "language_info": {
      "name": "python"
    }
  },
  "cells": [
    {
      "cell_type": "code",
      "execution_count": null,
      "metadata": {
        "id": "nPR1Bi155Um5"
      },
      "outputs": [],
      "source": [
        "def match(string):\n",
        "\n",
        "  brack_dict = {\")\":\"(\", \"}\":\"{\", \"]\":\"[\"}\n",
        "\n",
        "  seenbrackets = []\n",
        "\n",
        "  for letter in string:\n",
        "    \n",
        "    if letter in brack_dict.values():\n",
        "       seenbrackets.append(letter)\n",
        "   \n",
        "    elif letter in brack_dict.keys():\n",
        "\n",
        "      if len(seenbrackets) == 0:\n",
        "        return False\n",
        "      \n",
        "      if seenbrackets[-1] == brack_dict[letter]:\n",
        "        seenbrackets.pop()\n",
        "      else:\n",
        "        return False\n",
        "\n",
        "  if len(seenbrackets) == 0:\n",
        "    return True\n",
        "  else:\n",
        "    return False\n"
      ]
    },
    {
      "cell_type": "code",
      "source": [
        "import unittest"
      ],
      "metadata": {
        "id": "uFFmDbXF88_v"
      },
      "execution_count": null,
      "outputs": []
    },
    {
      "cell_type": "code",
      "source": [
        "class TestMatch(unittest.TestCase):\n",
        "    def test_match(self):\n",
        "        test_strings = [\"({)}\", \"{()}\", \"(hello) + {bye}\", \"(\", \"\", \"({{}})\", \"hello\", \"}\"]\n",
        "        result = [False, True, True, False, True, True, True, False]\n",
        "        for string,result in zip(test_strings, result):\n",
        "          self.assertEqual(match(string), result)\n",
        "\n",
        "unittest.main(argv=[''], verbosity=2, exit=False)"
      ],
      "metadata": {
        "colab": {
          "base_uri": "https://localhost:8080/"
        },
        "id": "5M745GtA8gSa",
        "outputId": "7ad5acae-813c-4abb-ff03-e8be6afea956"
      },
      "execution_count": null,
      "outputs": [
        {
          "output_type": "stream",
          "name": "stderr",
          "text": [
            "test_match (__main__.TestMatch) ... ok\n",
            "\n",
            "----------------------------------------------------------------------\n",
            "Ran 1 test in 0.004s\n",
            "\n",
            "OK\n"
          ]
        },
        {
          "output_type": "execute_result",
          "data": {
            "text/plain": [
              "<unittest.main.TestProgram at 0x7f0578ed2dd0>"
            ]
          },
          "metadata": {},
          "execution_count": 42
        }
      ]
    },
    {
      "cell_type": "code",
      "source": [
        ""
      ],
      "metadata": {
        "id": "3RKiRe2E9AQP"
      },
      "execution_count": null,
      "outputs": []
    }
  ]
}