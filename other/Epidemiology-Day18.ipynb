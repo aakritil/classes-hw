{
  "nbformat": 4,
  "nbformat_minor": 0,
  "metadata": {
    "colab": {
      "name": "Copy of Day 18.ipynb",
      "provenance": [],
      "collapsed_sections": []
    },
    "kernelspec": {
      "name": "python3",
      "display_name": "Python 3"
    }
  },
  "cells": [
    {
      "cell_type": "code",
      "metadata": {
        "id": "6_0v1p0SeOrw"
      },
      "source": [
        "import random\n",
        "import matplotlib.pyplot as plt\n",
        "\n",
        "def main(rate,range):\n",
        "    N = 100000\n",
        "    AA = .47*N\n",
        "    Aa = .32*N\n",
        "    aa = .21*N\n",
        "\n",
        "    al = []\n",
        "    for i in range(0,int(AA)):\n",
        "        al.append('AA')\n",
        "    for i in range(0,int(int(Aa))):\n",
        "        al.append('Aa')\n",
        "    for i in range(0,int(int(aa))):\n",
        "        al.append('aa')\n",
        "    random.shuffle(al)\n",
        "\n",
        "    if N%2 != 0:\n",
        "        N += 1\n",
        "    \n",
        "    t = 0\n",
        "\n",
        "    while t<=range:\n",
        "        oneparent = al[random.randint(0,len(al))]\n",
        "        twoparent = al[random.randint(0,len(al))]\n",
        "        for i in range(0,N*rate):\n",
        "            al.remove(i)\n",
        "            if oneparent == 'AA' and twoparent == 'AA':\n",
        "              al.append('AA')\n",
        "            elif oneparent == 'AA' and twoparent = 'Aa':\n",
        "              AA = 0\n",
        "              Aa = 1\n",
        "              newallele = random.rand(0,1)\n",
        "              if newallele == 0:\n",
        "                al.append('AA')\n",
        "              elif:\n",
        "                al.append('Aa')\n",
        "            elif oneparent == 'AA' and twoparent = 'aa':\n",
        "              al.append('Aa')\n",
        "            elif oneparent == 'Aa' and twoparent = 'aa':\n",
        "              aa = 0\n",
        "              Aa = 1\n",
        "              newallele = random.rand(0,1)\n",
        "              if newallele == 0:\n",
        "                al.append('aa')\n",
        "              elif:\n",
        "                al.append('Aa')\n",
        "            elif oneparent == 'AA' and twoparent = 'AA':\n",
        "              al.append('AA')\n",
        "            else:\n",
        "              aa = 0\n",
        "              Aa = 1\n",
        "              AA = 2\n",
        "              newallele = random.rand(0,2)\n",
        "              if newallele == 0:\n",
        "                al.append('aa')\n",
        "              elif newallele == 1:\n",
        "                al.append('Aa')\n",
        "              else:\n",
        "                al.append('AA')\n",
        "          random.shuffle(al)\n",
        "          AAcount = []\n",
        "          Aacount = []\n",
        "          aacount = []\n",
        "          acount = []\n",
        "          Acount = []\n",
        "          AAcount.append (al.count('AA'))\n",
        "          Aacount.append (al.count('Aa'))\n",
        "          aacount.append (al.count('aa'))\n",
        "          Acount.append (al.count('AA')*2 + al.count('Aa'))\n",
        "          acount.append (al.count('aa')*2 + al.count('Aa'))\n",
        "\n",
        "\n",
        "\n",
        "Acount = AAcount*2 + Aacount\n",
        "acount = aacount*2 + Aacount\n",
        "\n",
        "        \n",
        "\n",
        "            "
      ],
      "execution_count": null,
      "outputs": []
    },
    {
      "cell_type": "code",
      "metadata": {
        "id": "F6zQAEwMhP5e"
      },
      "source": [
        "main(11.6/1000)"
      ],
      "execution_count": null,
      "outputs": []
    }
  ]
}